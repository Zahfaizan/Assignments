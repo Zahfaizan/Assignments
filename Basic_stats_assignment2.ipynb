{
  "nbformat": 4,
  "nbformat_minor": 0,
  "metadata": {
    "colab": {
      "provenance": []
    },
    "kernelspec": {
      "name": "python3",
      "display_name": "Python 3"
    },
    "language_info": {
      "name": "python"
    }
  },
  "cells": [
    {
      "cell_type": "markdown",
      "source": [
        "# First we have import the python library  and also import the stats"
      ],
      "metadata": {
        "id": "Kd5eSqbarpQg"
      }
    },
    {
      "cell_type": "code",
      "source": [
        "import numpy as np\n",
        "import pandas as pd\n",
        "from scipy import stats"
      ],
      "metadata": {
        "id": "NbrxO2fsrtSa"
      },
      "execution_count": 1,
      "outputs": []
    },
    {
      "cell_type": "markdown",
      "source": [
        "\n",
        "# We have given data already"
      ],
      "metadata": {
        "id": "tuQx8G7TsAil"
      }
    },
    {
      "cell_type": "code",
      "source": [
        "df =[1.13, 1.55, 1.43, 0.92, 1.25, 1.36, 1.32, 0.85, 1.07, 1.48, 1.20, 1.33, 1.18, 1.22, 1.29]\n",
        "df"
      ],
      "metadata": {
        "colab": {
          "base_uri": "https://localhost:8080/"
        },
        "id": "azFhBwP_r0wR",
        "outputId": "c42e2da3-3676-4e30-b94f-11e1dadc4afb"
      },
      "execution_count": 2,
      "outputs": [
        {
          "output_type": "execute_result",
          "data": {
            "text/plain": [
              "[1.13,\n",
              " 1.55,\n",
              " 1.43,\n",
              " 0.92,\n",
              " 1.25,\n",
              " 1.36,\n",
              " 1.32,\n",
              " 0.85,\n",
              " 1.07,\n",
              " 1.48,\n",
              " 1.2,\n",
              " 1.33,\n",
              " 1.18,\n",
              " 1.22,\n",
              " 1.29]"
            ]
          },
          "metadata": {},
          "execution_count": 2
        }
      ]
    },
    {
      "cell_type": "code",
      "source": [
        "n=len(df)"
      ],
      "metadata": {
        "id": "y8SqNEx_sRje"
      },
      "execution_count": 3,
      "outputs": []
    },
    {
      "cell_type": "code",
      "source": [
        "n"
      ],
      "metadata": {
        "id": "WmUX1cjosucO",
        "outputId": "eb1abad4-29e5-41e4-c736-f162402e5c36",
        "colab": {
          "base_uri": "https://localhost:8080/"
        }
      },
      "execution_count": 4,
      "outputs": [
        {
          "output_type": "execute_result",
          "data": {
            "text/plain": [
              "15"
            ]
          },
          "metadata": {},
          "execution_count": 4
        }
      ]
    },
    {
      "cell_type": "markdown",
      "source": [
        "# **Task a:- Build 99% Confidence Interval Using Sample Standard Deviation**"
      ],
      "metadata": {
        "id": "h2FnPljsv2qP"
      }
    },
    {
      "cell_type": "markdown",
      "source": [
        "# **Firstly we have to calculated the sample mean**"
      ],
      "metadata": {
        "id": "spT5elpqv5nQ"
      }
    },
    {
      "cell_type": "code",
      "source": [
        "sample_mean=np.mean(df)\n",
        "sample_mean"
      ],
      "metadata": {
        "id": "OT8EfC5Qsv_b",
        "colab": {
          "base_uri": "https://localhost:8080/"
        },
        "outputId": "25af72ef-1113-4b5f-8182-6d0471d1c680"
      },
      "execution_count": 5,
      "outputs": [
        {
          "output_type": "execute_result",
          "data": {
            "text/plain": [
              "1.2386666666666666"
            ]
          },
          "metadata": {},
          "execution_count": 5
        }
      ]
    },
    {
      "cell_type": "markdown",
      "source": [
        "# **And also calculated the sample standard devition**"
      ],
      "metadata": {
        "id": "4arnmNQTwvQN"
      }
    },
    {
      "cell_type": "code",
      "source": [
        "sample_std_dev=np.std(df)\n",
        "sample_std_dev"
      ],
      "metadata": {
        "colab": {
          "base_uri": "https://localhost:8080/"
        },
        "id": "RXXoxJo1whp3",
        "outputId": "c1e51bc8-49f0-4947-f183-4b6057c0d957"
      },
      "execution_count": 6,
      "outputs": [
        {
          "output_type": "execute_result",
          "data": {
            "text/plain": [
              "0.18661427836285438"
            ]
          },
          "metadata": {},
          "execution_count": 6
        }
      ]
    },
    {
      "cell_type": "markdown",
      "source": [
        "# **And later find the degrees of freedom it means the total number of the data it minus 1**"
      ],
      "metadata": {
        "id": "xkmCyqrrxDoy"
      }
    },
    {
      "cell_type": "code",
      "source": [
        "d_f=n-1\n",
        "d_f"
      ],
      "metadata": {
        "colab": {
          "base_uri": "https://localhost:8080/"
        },
        "id": "-gKDPQ7ZxBHm",
        "outputId": "cbb6435d-a0dd-4955-b67f-f53a130d0037"
      },
      "execution_count": 7,
      "outputs": [
        {
          "output_type": "execute_result",
          "data": {
            "text/plain": [
              "14"
            ]
          },
          "metadata": {},
          "execution_count": 7
        }
      ]
    },
    {
      "cell_type": "markdown",
      "source": [
        "# **here we calculate the critical value from t-distribution for 99% confidence leve**"
      ],
      "metadata": {
        "id": "4iA9VX4zxa8g"
      }
    },
    {
      "cell_type": "code",
      "source": [
        "t_critical=stats.t.ppf(0.99,df)\n",
        "t_critical"
      ],
      "metadata": {
        "id": "HpA1EMBUxUJb",
        "colab": {
          "base_uri": "https://localhost:8080/"
        },
        "outputId": "09d01f7f-68c1-4b79-ac52-a11bbe6f50be"
      },
      "execution_count": 8,
      "outputs": [
        {
          "output_type": "execute_result",
          "data": {
            "text/plain": [
              "array([21.94662127, 10.50880338, 12.3427023 , 42.38558208, 16.79511416,\n",
              "       13.76211214, 14.73193776, 57.19127574, 25.73013743, 11.50096869,\n",
              "       18.63962698, 14.47696936, 19.48701023, 17.85814436, 15.5526357 ])"
            ]
          },
          "metadata": {},
          "execution_count": 8
        }
      ]
    },
    {
      "cell_type": "markdown",
      "source": [
        "# And calculate the margin error"
      ],
      "metadata": {
        "id": "Ytz8WXFPznBd"
      }
    },
    {
      "cell_type": "code",
      "source": [
        "margin_of_error=t_critical*(sample_std_dev/np.sqrt(n))\n",
        "margin_of_error"
      ],
      "metadata": {
        "colab": {
          "base_uri": "https://localhost:8080/"
        },
        "id": "8n0ebHzAzTrY",
        "outputId": "cfedad0d-45c0-49c9-c2c1-3e54040124b9"
      },
      "execution_count": 9,
      "outputs": [
        {
          "output_type": "execute_result",
          "data": {
            "text/plain": [
              "array([1.05746721, 0.50635197, 0.59471582, 2.04228991, 0.80924905,\n",
              "       0.6631081 , 0.70983779, 2.75568152, 1.23977064, 0.55415807,\n",
              "       0.89812432, 0.69755249, 0.9389543 , 0.86046968, 0.74938197])"
            ]
          },
          "metadata": {},
          "execution_count": 9
        }
      ]
    },
    {
      "cell_type": "code",
      "source": [
        "sample_mean-margin_of_error"
      ],
      "metadata": {
        "colab": {
          "base_uri": "https://localhost:8080/"
        },
        "id": "ugLoS5av0QM5",
        "outputId": "b049cae8-2fbf-4681-b07f-ad3bad681201"
      },
      "execution_count": 10,
      "outputs": [
        {
          "output_type": "execute_result",
          "data": {
            "text/plain": [
              "array([ 1.81199458e-01,  7.32314694e-01,  6.43950843e-01, -8.03623244e-01,\n",
              "        4.29417613e-01,  5.75558567e-01,  5.28828878e-01, -1.51701486e+00,\n",
              "       -1.10396972e-03,  6.84508597e-01,  3.40542346e-01,  5.41114173e-01,\n",
              "        2.99712370e-01,  3.78196991e-01,  4.89284697e-01])"
            ]
          },
          "metadata": {},
          "execution_count": 10
        }
      ]
    },
    {
      "cell_type": "code",
      "source": [
        "sample_mean+margin_of_error"
      ],
      "metadata": {
        "colab": {
          "base_uri": "https://localhost:8080/"
        },
        "id": "JkEgyjgD0XSN",
        "outputId": "46e5d692-92ee-44da-964d-2c454d67607c"
      },
      "execution_count": 11,
      "outputs": [
        {
          "output_type": "execute_result",
          "data": {
            "text/plain": [
              "array([2.29613388, 1.74501864, 1.83338249, 3.28095658, 2.04791572,\n",
              "       1.90177477, 1.94850446, 3.99434819, 2.4784373 , 1.79282474,\n",
              "       2.13679099, 1.93621916, 2.17762096, 2.09913634, 1.98804864])"
            ]
          },
          "metadata": {},
          "execution_count": 11
        }
      ]
    },
    {
      "cell_type": "markdown",
      "source": [
        "# And finally to calculate Confidence interval Calculation"
      ],
      "metadata": {
        "id": "RqdCIow00AR_"
      }
    },
    {
      "cell_type": "code",
      "source": [
        "confidence_interval=(sample_mean-margin_of_error,sample_mean+margin_of_error)\n",
        "confidence_interval"
      ],
      "metadata": {
        "colab": {
          "base_uri": "https://localhost:8080/"
        },
        "id": "JaMo-_Ebzj1f",
        "outputId": "738daec7-1ba2-4c4b-b98e-d04aa893688e"
      },
      "execution_count": 12,
      "outputs": [
        {
          "output_type": "execute_result",
          "data": {
            "text/plain": [
              "(array([ 1.81199458e-01,  7.32314694e-01,  6.43950843e-01, -8.03623244e-01,\n",
              "         4.29417613e-01,  5.75558567e-01,  5.28828878e-01, -1.51701486e+00,\n",
              "        -1.10396972e-03,  6.84508597e-01,  3.40542346e-01,  5.41114173e-01,\n",
              "         2.99712370e-01,  3.78196991e-01,  4.89284697e-01]),\n",
              " array([2.29613388, 1.74501864, 1.83338249, 3.28095658, 2.04791572,\n",
              "        1.90177477, 1.94850446, 3.99434819, 2.4784373 , 1.79282474,\n",
              "        2.13679099, 1.93621916, 2.17762096, 2.09913634, 1.98804864]))"
            ]
          },
          "metadata": {},
          "execution_count": 12
        }
      ]
    },
    {
      "cell_type": "code",
      "source": [
        "print('Task a:--Building a 99% Confidence Interval Using Sample Standard Deviation')\n",
        "print('\\n')\n",
        "print('Sample Mean:--',sample_mean)\n",
        "print('\\n')\n",
        "print('Sample standard devition :--',sample_std_dev)\n",
        "print('\\n')\n",
        "print('Confidence Interval:--',confidence_interval)\n",
        "print('\\n')"
      ],
      "metadata": {
        "colab": {
          "base_uri": "https://localhost:8080/"
        },
        "id": "eKOM2b720sMy",
        "outputId": "040ae938-3258-4ba8-d7fc-444630e95911"
      },
      "execution_count": 21,
      "outputs": [
        {
          "output_type": "stream",
          "name": "stdout",
          "text": [
            "Task a:--Building a 99% Confidence Interval Using Sample Standard Deviation\n",
            "\n",
            "\n",
            "Sample Mean:-- 1.2386666666666666\n",
            "\n",
            "\n",
            "Sample standard devition :-- 0.18661427836285438\n",
            "\n",
            "\n",
            "Confidence Interval:-- (array([ 1.81199458e-01,  7.32314694e-01,  6.43950843e-01, -8.03623244e-01,\n",
            "        4.29417613e-01,  5.75558567e-01,  5.28828878e-01, -1.51701486e+00,\n",
            "       -1.10396972e-03,  6.84508597e-01,  3.40542346e-01,  5.41114173e-01,\n",
            "        2.99712370e-01,  3.78196991e-01,  4.89284697e-01]), array([2.29613388, 1.74501864, 1.83338249, 3.28095658, 2.04791572,\n",
            "       1.90177477, 1.94850446, 3.99434819, 2.4784373 , 1.79282474,\n",
            "       2.13679099, 1.93621916, 2.17762096, 2.09913634, 1.98804864]))\n",
            "\n",
            "\n"
          ]
        }
      ]
    },
    {
      "cell_type": "markdown",
      "source": [
        "# **Task b. Build 99% Confidence Interval Using Known Population Standard Deviation**"
      ],
      "metadata": {
        "id": "wAOYtzV62PKL"
      }
    },
    {
      "cell_type": "markdown",
      "source": [
        "# **Given population standard deviation**"
      ],
      "metadata": {
        "id": "XOWYeOjo3XXr"
      }
    },
    {
      "cell_type": "code",
      "source": [
        "population_std_dev=0.2\n",
        "population_std_dev"
      ],
      "metadata": {
        "id": "c76-N9v71fsp",
        "colab": {
          "base_uri": "https://localhost:8080/"
        },
        "outputId": "4bb29369-50e3-4d8c-e43f-69b7a3f765a3"
      },
      "execution_count": 14,
      "outputs": [
        {
          "output_type": "execute_result",
          "data": {
            "text/plain": [
              "0.2"
            ]
          },
          "metadata": {},
          "execution_count": 14
        }
      ]
    },
    {
      "cell_type": "markdown",
      "source": [
        "# **Critical value from z-distribution for 99% confidence level**"
      ],
      "metadata": {
        "id": "3UJLDl7m3_3z"
      }
    },
    {
      "cell_type": "code",
      "source": [
        "z_critical=stats.norm.ppf(0.99)\n",
        "z_critical"
      ],
      "metadata": {
        "colab": {
          "base_uri": "https://localhost:8080/"
        },
        "id": "Wcpj3CFO32pd",
        "outputId": "f4d38392-556d-41e5-ea7d-916de47b6cea"
      },
      "execution_count": 15,
      "outputs": [
        {
          "output_type": "execute_result",
          "data": {
            "text/plain": [
              "2.3263478740408408"
            ]
          },
          "metadata": {},
          "execution_count": 15
        }
      ]
    },
    {
      "cell_type": "code",
      "source": [
        "margin_error=z_critical*(population_std_dev/np.sqrt(n))\n",
        "margin_error"
      ],
      "metadata": {
        "colab": {
          "base_uri": "https://localhost:8080/"
        },
        "id": "jKeYGIaL41ZX",
        "outputId": "074c1515-51b9-4910-fd53-5ca14094a3b0"
      },
      "execution_count": 16,
      "outputs": [
        {
          "output_type": "execute_result",
          "data": {
            "text/plain": [
              "0.12013208764860274"
            ]
          },
          "metadata": {},
          "execution_count": 16
        }
      ]
    },
    {
      "cell_type": "code",
      "source": [
        "sample_mean-margin_error"
      ],
      "metadata": {
        "colab": {
          "base_uri": "https://localhost:8080/"
        },
        "id": "n3IMfUir5WqC",
        "outputId": "650f1fab-43e2-44ca-9b50-0fafb03d2eab"
      },
      "execution_count": 17,
      "outputs": [
        {
          "output_type": "execute_result",
          "data": {
            "text/plain": [
              "1.1185345790180639"
            ]
          },
          "metadata": {},
          "execution_count": 17
        }
      ]
    },
    {
      "cell_type": "code",
      "source": [
        "sample_mean+margin_error"
      ],
      "metadata": {
        "colab": {
          "base_uri": "https://localhost:8080/"
        },
        "id": "CSSvF8gp5cb3",
        "outputId": "03419e88-f650-4356-cb39-36632cd62dc4"
      },
      "execution_count": 18,
      "outputs": [
        {
          "output_type": "execute_result",
          "data": {
            "text/plain": [
              "1.3587987543152693"
            ]
          },
          "metadata": {},
          "execution_count": 18
        }
      ]
    },
    {
      "cell_type": "markdown",
      "source": [
        "# **Confidence Interval Calculation**"
      ],
      "metadata": {
        "id": "9beN0Xpg5p33"
      }
    },
    {
      "cell_type": "code",
      "source": [
        "confidence_i=(sample_mean-margin_error,sample_mean+margin_error)\n",
        "confidence_i"
      ],
      "metadata": {
        "colab": {
          "base_uri": "https://localhost:8080/"
        },
        "id": "eguy6sCy5lyN",
        "outputId": "1121a966-3fc8-49f5-c49d-6e1ceb5af65e"
      },
      "execution_count": 19,
      "outputs": [
        {
          "output_type": "execute_result",
          "data": {
            "text/plain": [
              "(1.1185345790180639, 1.3587987543152693)"
            ]
          },
          "metadata": {},
          "execution_count": 19
        }
      ]
    },
    {
      "cell_type": "code",
      "source": [
        "print('Task b. Building a 99% Confidence Interval Using Known Population Standard Deviation')\n",
        "print('\\n')\n",
        "print('Sample Mean:--',sample_mean)\n",
        "print('\\n')\n",
        "print('Population Standard Devition:--',population_std_dev)\n",
        "print('\\n')\n",
        "print('Confidence Interval:--',confidence_i)"
      ],
      "metadata": {
        "colab": {
          "base_uri": "https://localhost:8080/"
        },
        "id": "Q5Qog3Zl55Ym",
        "outputId": "7d937b55-971c-401b-ae25-a8ccc737b670"
      },
      "execution_count": 22,
      "outputs": [
        {
          "output_type": "stream",
          "name": "stdout",
          "text": [
            "Task b. Building a 99% Confidence Interval Using Known Population Standard Deviation\n",
            "\n",
            "\n",
            "Sample Mean:-- 1.2386666666666666\n",
            "\n",
            "\n",
            "Population Standard Devition:-- 0.2\n",
            "\n",
            "\n",
            "Confidence Interval:-- (1.1185345790180639, 1.3587987543152693)\n"
          ]
        }
      ]
    },
    {
      "cell_type": "code",
      "source": [],
      "metadata": {
        "id": "HaNrmVFnQSp8"
      },
      "execution_count": null,
      "outputs": []
    }
  ]
}